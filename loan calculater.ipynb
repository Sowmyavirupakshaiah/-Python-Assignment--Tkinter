{
 "cells": [
  {
   "cell_type": "markdown",
   "id": "11eb3cde",
   "metadata": {},
   "source": [
    "# Create GUI for loan calculater. With necessory fields."
   ]
  },
  {
   "cell_type": "code",
   "execution_count": 1,
   "id": "ece7b44a",
   "metadata": {},
   "outputs": [
    {
     "data": {
      "text/plain": [
       "<__main__.LoanCalculator at 0x28ebbbf9160>"
      ]
     },
     "execution_count": 1,
     "metadata": {},
     "output_type": "execute_result"
    }
   ],
   "source": [
    "from tkinter import *\n",
    "class LoanCalculator: \n",
    "\n",
    "  def __init__(self): \n",
    "\n",
    "    window = Tk() \n",
    "    window.title(\"Loan Calculator\")  \n",
    "    \n",
    "    Label(window, text = \"Annual Interest Rate\").grid(row = 1, \n",
    "                    column = 1, sticky = W) \n",
    "    Label(window, text = \"Number of Years\").grid(row = 2, \n",
    "                  column = 1, sticky = W) \n",
    "    Label(window, text = \"Loan Amount\").grid(row = 3, \n",
    "                column = 1, sticky = W) \n",
    "    Label(window, text = \"Monthly Payment\").grid(row = 4, \n",
    "                  column = 1, sticky = W) \n",
    "    Label(window, text = \"Total Payment\").grid(row = 5, \n",
    "                  column = 1, sticky = W) \n",
    "\n",
    "     \n",
    "    self.annualInterestRateVar = StringVar() \n",
    "    Entry(window, textvariable = self.annualInterestRateVar, \n",
    "          justify = RIGHT).grid(row = 1, column = 2) \n",
    "    self.numberOfYearsVar = StringVar() \n",
    "\n",
    "    Entry(window, textvariable = self.numberOfYearsVar, \n",
    "        justify = RIGHT).grid(row = 2, column = 2) \n",
    "    self.loanAmountVar = StringVar() \n",
    "\n",
    "    Entry(window, textvariable = self.loanAmountVar, \n",
    "      justify = RIGHT).grid(row = 3, column = 2) \n",
    "    self.monthlyPaymentVar = StringVar() \n",
    "    lblMonthlyPayment = Label(window, textvariable =\n",
    "            self.monthlyPaymentVar).grid(row = 4, \n",
    "            column = 2, sticky = E) \n",
    "\n",
    "    self.totalPaymentVar = StringVar() \n",
    "    lblTotalPayment = Label(window, textvariable =\n",
    "          self.totalPaymentVar).grid(row = 5, \n",
    "          column = 2, sticky = E) \n",
    "    \n",
    "    \n",
    "    btComputePayment = Button(window, text = \"Compute Payment\", \n",
    "                command = self.computePayment).grid( \n",
    "                row = 6, column = 2, sticky = E) \n",
    "    window.mainloop() \n",
    "\n",
    "\n",
    "   \n",
    "  def computePayment(self): \n",
    "        \n",
    "    monthlyPayment = self.getMonthlyPayment( \n",
    "    float(self.loanAmountVar.get()), \n",
    "    float(self.annualInterestRateVar.get()) / 1200, \n",
    "    int(self.numberOfYearsVar.get())) \n",
    "\n",
    "    self.monthlyPaymentVar.set(format(monthlyPayment, '10.2f')) \n",
    "    totalPayment = float(self.monthlyPaymentVar.get())* int(self.numberOfYearsVar.get()) \n",
    "\n",
    "    self.totalPaymentVar.set(format(totalPayment, '10.2f')) \n",
    "\n",
    "  def getMonthlyPayment(self, loanAmount, monthlyInterestRate, numberOfYears):  \n",
    "    monthlyPayment = loanAmount * monthlyInterestRate / (1 - (1 / (1 + monthlyInterestRate) ** (numberOfYears * 12))) \n",
    "    return (monthlyPayment) \n",
    "    r = Tk() \n",
    "\n",
    "\n",
    "LoanCalculator()"
   ]
  }
 ],
 "metadata": {
  "kernelspec": {
   "display_name": "Python 3 (ipykernel)",
   "language": "python",
   "name": "python3"
  },
  "language_info": {
   "codemirror_mode": {
    "name": "ipython",
    "version": 3
   },
   "file_extension": ".py",
   "mimetype": "text/x-python",
   "name": "python",
   "nbconvert_exporter": "python",
   "pygments_lexer": "ipython3",
   "version": "3.9.7"
  }
 },
 "nbformat": 4,
 "nbformat_minor": 5
}
