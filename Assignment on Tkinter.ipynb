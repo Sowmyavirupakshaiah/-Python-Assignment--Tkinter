{
 "cells": [
  {
   "cell_type": "markdown",
   "id": "af51f41e",
   "metadata": {},
   "source": [
    "# Create Button that contain two option Quit and Hello using tkinter."
   ]
  },
  {
   "cell_type": "code",
   "execution_count": 1,
   "id": "299bf600",
   "metadata": {},
   "outputs": [
    {
     "name": "stdout",
     "output_type": "stream",
     "text": [
      "Tkinter is easy to create GUI!\n"
     ]
    }
   ],
   "source": [
    "import tkinter as tk   \n",
    "\n",
    "def write_text():\n",
    "    print(\"Tkinter is easy to create GUI!\")\n",
    "\n",
    "parent = tk.Tk()\n",
    "frame = tk.Frame(parent)\n",
    "frame.pack()\n",
    "\n",
    "text_disp= tk.Button(frame, \n",
    "                   text=\"Hello\", \n",
    "                   command=write_text\n",
    "                   )\n",
    "\n",
    "text_disp.pack(side=tk.LEFT)\n",
    "\n",
    "exit_button = tk.Button(frame,\n",
    "                   text=\"Quit\",\n",
    "                   fg=\"green\",\n",
    "                   command=quit)\n",
    "exit_button.pack(side=tk.RIGHT)\n",
    "\n",
    "parent.mainloop()\n"
   ]
  },
  {
   "cell_type": "markdown",
   "id": "c79d9990",
   "metadata": {},
   "source": [
    "# 2.Create Simple Menu with sub options.\n",
    "\n",
    "File -->New , Open , Exit \n",
    "\n",
    "Help"
   ]
  },
  {
   "cell_type": "code",
   "execution_count": 1,
   "id": "692c7ecf",
   "metadata": {},
   "outputs": [],
   "source": [
    "from tkinter import Tk, Frame, Menu\n",
    "\n",
    "\n",
    "# root window\n",
    "root = Tk()\n",
    "root.geometry('320x150')\n",
    "root.title('Menu Demo')\n",
    "\n",
    "\n",
    "# create a menubar\n",
    "menubar = Menu(root)\n",
    "root.config(menu=menubar)\n",
    "\n",
    "# create the file_menu\n",
    "file_menu = Menu(\n",
    "    menubar,\n",
    "    tearoff=0\n",
    ")\n",
    "\n",
    "# add menu items to the File menu\n",
    "file_menu.add_command(label='New')\n",
    "file_menu.add_command(label='Open...')\n",
    "file_menu.add_command(label='Exit')\n",
    "file_menu.add_separator()\n",
    "\n",
    "# add Exit menu item\n",
    "file_menu.add_command(\n",
    "    label='Exit',\n",
    "    command=root.destroy\n",
    ")\n",
    "\n",
    "# add the File menu to the menubar\n",
    "menubar.add_cascade(\n",
    "    label=\"File\",\n",
    "    menu=file_menu\n",
    ")\n",
    "# create the Help menu\n",
    "help_menu = Menu(\n",
    "    menubar,\n",
    "    tearoff=0\n",
    ")\n",
    "\n",
    "help_menu.add_command(label='Welcome')\n",
    "help_menu.add_command(label='About...')\n",
    "\n",
    "# add the Help menu to the menubar\n",
    "menubar.add_cascade(\n",
    "    label=\"Help\",\n",
    "    menu=help_menu\n",
    ")\n",
    "\n",
    "root.mainloop()"
   ]
  }
 ],
 "metadata": {
  "kernelspec": {
   "display_name": "Python 3 (ipykernel)",
   "language": "python",
   "name": "python3"
  },
  "language_info": {
   "codemirror_mode": {
    "name": "ipython",
    "version": 3
   },
   "file_extension": ".py",
   "mimetype": "text/x-python",
   "name": "python",
   "nbconvert_exporter": "python",
   "pygments_lexer": "ipython3",
   "version": "3.9.7"
  }
 },
 "nbformat": 4,
 "nbformat_minor": 5
}
